{
 "cells": [
  {
   "cell_type": "markdown",
   "id": "2c991127-bf65-4be7-a6cf-c23b938bfd3b",
   "metadata": {},
   "source": [
    "# Week2,Adventure Works Sales"
   ]
  },
  {
   "cell_type": "markdown",
   "id": "bbad7f19-065c-4e77-b7db-b3992b0b4d87",
   "metadata": {},
   "source": [
    "## Establish Connection with Sqlite"
   ]
  },
  {
   "cell_type": "code",
   "execution_count": 1,
   "id": "b3bdd88b-5fc2-4741-8bc7-33b33d414da2",
   "metadata": {},
   "outputs": [],
   "source": [
    "import sqlite3\n",
    "import pandas as pd\n"
   ]
  },
  {
   "cell_type": "code",
   "execution_count": 2,
   "id": "c1ed0575-dc6e-4e77-b568-f63a501055f4",
   "metadata": {},
   "outputs": [
    {
     "name": "stdout",
     "output_type": "stream",
     "text": [
      "Connected to database\n"
     ]
    }
   ],
   "source": [
    "# Connect to the SQLite database\n",
    "path = (r'C:\\Users\\calua\\Desktop\\3Signet\\Sales_Adventure_Works.db')\n",
    "connect = sqlite3.connect(path)\n",
    "\n",
    "#check connection\n",
    "print(\"Connected to database\")"
   ]
  },
  {
   "cell_type": "markdown",
   "id": "4c06530c-67ea-4503-8b75-ccf831ef80ce",
   "metadata": {},
   "source": [
    "#### Check if all tables are pulled through\n"
   ]
  },
  {
   "cell_type": "code",
   "execution_count": 3,
   "id": "86681211-449d-4328-b341-886c9c985ba8",
   "metadata": {},
   "outputs": [
    {
     "name": "stdout",
     "output_type": "stream",
     "text": [
      "Table Name in Sale Adventure Works Database:\n",
      "\n",
      "AdventureWorks_Territories\n",
      "sqlite_sequence\n",
      "AdventureWorks_Product_Categories\n",
      "AdventureWorks_Returns\n",
      "AdventureWorks_Product_Subcategories\n",
      "AdventureWorks_Customers\n",
      "AdventureWorks_Products\n",
      "Calender\n",
      "AdventureWorks_Sales_Data\n"
     ]
    }
   ],
   "source": [
    "#Connect to the SQLITE database\n",
    "cursor = connect.cursor()\n",
    "\n",
    "#select all tables in the sales adventure works database\n",
    "cursor.execute(\"Select name from sqlite_master where type ='table';\")\n",
    "tables = cursor.fetchall()\n",
    "\n",
    "#Print all the table names\n",
    "print(\"Table Name in Sale Adventure Works Database:\\n\")\n",
    "for table in tables:\n",
    "    print(table[0])\n"
   ]
  },
  {
   "cell_type": "markdown",
   "id": "4042e936-6367-45a1-a494-bedf20674793",
   "metadata": {},
   "source": [
    "## Load Database into Pandas DataFrame"
   ]
  },
  {
   "cell_type": "code",
   "execution_count": 4,
   "id": "d6dd00a6-87c1-41e5-b9cc-ac2500acd11e",
   "metadata": {},
   "outputs": [
    {
     "name": "stdout",
     "output_type": "stream",
     "text": [
      "Tables successfuly loaded\n"
     ]
    }
   ],
   "source": [
    "#Define a function for loading tables from database to the dataframe\n",
    "\n",
    "def tables_to_dataframe(table):\n",
    "    return pd.read_sql_query(table,connect)\n",
    "\n",
    "#Tables\n",
    "query_sales = tables_to_dataframe(\"SELECT * FROM AdventureWorks_Sales_Data\")\n",
    "query_returns = tables_to_dataframe(\"SELECT * FROM AdventureWorks_Returns\")\n",
    "query_Customers = tables_to_dataframe(\"SELECT * FROM AdventureWorks_Customers\")\n",
    "query_products = tables_to_dataframe(\"SELECT * FROM AdventureWorks_Products\")\n",
    "query_Product_Categories = tables_to_dataframe(\"SELECT * FROM AdventureWorks_Product_Categories\")\n",
    "query_Product_Subcategories = tables_to_dataframe(\"SELECT * FROM AdventureWorks_Product_Subcategories\")\n",
    "query_Product_Territories = tables_to_dataframe(\"SELECT * FROM AdventureWorks_Territories\")\n",
    "query_Calender = tables_to_dataframe(\"SELECT * FROM Calender\")\n",
    "\n",
    "print(\"Tables successfuly loaded\")"
   ]
  },
  {
   "cell_type": "markdown",
   "id": "85394af0-834d-4b3e-b2b6-cae361ab04e2",
   "metadata": {},
   "source": [
    "# Data Preprocessing and Validation"
   ]
  },
  {
   "cell_type": "markdown",
   "id": "630c6ad2-6668-49a3-931a-ab4edc791b4d",
   "metadata": {},
   "source": [
    "#### Overview of dataframe"
   ]
  },
  {
   "cell_type": "code",
   "execution_count": 5,
   "id": "e7c664df-1302-4479-846a-3ff9e809e754",
   "metadata": {},
   "outputs": [
    {
     "data": {
      "text/html": [
       "<div>\n",
       "<style scoped>\n",
       "    .dataframe tbody tr th:only-of-type {\n",
       "        vertical-align: middle;\n",
       "    }\n",
       "\n",
       "    .dataframe tbody tr th {\n",
       "        vertical-align: top;\n",
       "    }\n",
       "\n",
       "    .dataframe thead th {\n",
       "        text-align: right;\n",
       "    }\n",
       "</style>\n",
       "<table border=\"1\" class=\"dataframe\">\n",
       "  <thead>\n",
       "    <tr style=\"text-align: right;\">\n",
       "      <th></th>\n",
       "      <th>OrderDate</th>\n",
       "      <th>StockDate</th>\n",
       "      <th>OrderNumber</th>\n",
       "      <th>ProductKey</th>\n",
       "      <th>CustomerKey</th>\n",
       "      <th>TerritoryKey</th>\n",
       "      <th>OrderLineItem</th>\n",
       "      <th>OrderQuantity</th>\n",
       "    </tr>\n",
       "  </thead>\n",
       "  <tbody>\n",
       "    <tr>\n",
       "      <th>0</th>\n",
       "      <td>1/1/2015</td>\n",
       "      <td>9/21/2001</td>\n",
       "      <td>SO45080</td>\n",
       "      <td>332</td>\n",
       "      <td>14657</td>\n",
       "      <td>1</td>\n",
       "      <td>1</td>\n",
       "      <td>1</td>\n",
       "    </tr>\n",
       "    <tr>\n",
       "      <th>1</th>\n",
       "      <td>1/1/2015</td>\n",
       "      <td>12/5/2001</td>\n",
       "      <td>SO45079</td>\n",
       "      <td>312</td>\n",
       "      <td>29255</td>\n",
       "      <td>4</td>\n",
       "      <td>1</td>\n",
       "      <td>1</td>\n",
       "    </tr>\n",
       "    <tr>\n",
       "      <th>2</th>\n",
       "      <td>1/1/2015</td>\n",
       "      <td>10/29/2001</td>\n",
       "      <td>SO45082</td>\n",
       "      <td>350</td>\n",
       "      <td>11455</td>\n",
       "      <td>9</td>\n",
       "      <td>1</td>\n",
       "      <td>1</td>\n",
       "    </tr>\n",
       "    <tr>\n",
       "      <th>3</th>\n",
       "      <td>1/1/2015</td>\n",
       "      <td>11/16/2001</td>\n",
       "      <td>SO45081</td>\n",
       "      <td>338</td>\n",
       "      <td>26782</td>\n",
       "      <td>6</td>\n",
       "      <td>1</td>\n",
       "      <td>1</td>\n",
       "    </tr>\n",
       "    <tr>\n",
       "      <th>4</th>\n",
       "      <td>1/2/2015</td>\n",
       "      <td>12/15/2001</td>\n",
       "      <td>SO45083</td>\n",
       "      <td>312</td>\n",
       "      <td>14947</td>\n",
       "      <td>10</td>\n",
       "      <td>1</td>\n",
       "      <td>1</td>\n",
       "    </tr>\n",
       "  </tbody>\n",
       "</table>\n",
       "</div>"
      ],
      "text/plain": [
       "  OrderDate   StockDate OrderNumber  ProductKey  CustomerKey  TerritoryKey  \\\n",
       "0  1/1/2015   9/21/2001     SO45080         332        14657             1   \n",
       "1  1/1/2015   12/5/2001     SO45079         312        29255             4   \n",
       "2  1/1/2015  10/29/2001     SO45082         350        11455             9   \n",
       "3  1/1/2015  11/16/2001     SO45081         338        26782             6   \n",
       "4  1/2/2015  12/15/2001     SO45083         312        14947            10   \n",
       "\n",
       "   OrderLineItem  OrderQuantity  \n",
       "0              1              1  \n",
       "1              1              1  \n",
       "2              1              1  \n",
       "3              1              1  \n",
       "4              1              1  "
      ]
     },
     "execution_count": 5,
     "metadata": {},
     "output_type": "execute_result"
    }
   ],
   "source": [
    "#check sales table\n",
    "query_sales.head(5)"
   ]
  },
  {
   "cell_type": "code",
   "execution_count": 6,
   "id": "97b8ecd0-ec53-484a-b462-4acebeb6caae",
   "metadata": {},
   "outputs": [
    {
     "name": "stdout",
     "output_type": "stream",
     "text": [
      "<class 'pandas.core.frame.DataFrame'>\n",
      "RangeIndex: 56046 entries, 0 to 56045\n",
      "Data columns (total 8 columns):\n",
      " #   Column         Non-Null Count  Dtype \n",
      "---  ------         --------------  ----- \n",
      " 0   OrderDate      56046 non-null  object\n",
      " 1   StockDate      56046 non-null  object\n",
      " 2   OrderNumber    56046 non-null  object\n",
      " 3   ProductKey     56046 non-null  int64 \n",
      " 4   CustomerKey    56046 non-null  int64 \n",
      " 5   TerritoryKey   56046 non-null  int64 \n",
      " 6   OrderLineItem  56046 non-null  int64 \n",
      " 7   OrderQuantity  56046 non-null  int64 \n",
      "dtypes: int64(5), object(3)\n",
      "memory usage: 3.4+ MB\n"
     ]
    }
   ],
   "source": [
    "#check for null values and column data types\n",
    "query_sales.info()"
   ]
  },
  {
   "cell_type": "code",
   "execution_count": 7,
   "id": "af1d9ecf-4b3a-4d4d-b1b7-dd415994001a",
   "metadata": {},
   "outputs": [
    {
     "data": {
      "text/html": [
       "<div>\n",
       "<style scoped>\n",
       "    .dataframe tbody tr th:only-of-type {\n",
       "        vertical-align: middle;\n",
       "    }\n",
       "\n",
       "    .dataframe tbody tr th {\n",
       "        vertical-align: top;\n",
       "    }\n",
       "\n",
       "    .dataframe thead th {\n",
       "        text-align: right;\n",
       "    }\n",
       "</style>\n",
       "<table border=\"1\" class=\"dataframe\">\n",
       "  <thead>\n",
       "    <tr style=\"text-align: right;\">\n",
       "      <th></th>\n",
       "      <th>ReturnDate</th>\n",
       "      <th>TerritoryKey</th>\n",
       "      <th>ProductKey</th>\n",
       "      <th>ReturnQuantity</th>\n",
       "      <th>Return_ID</th>\n",
       "    </tr>\n",
       "  </thead>\n",
       "  <tbody>\n",
       "    <tr>\n",
       "      <th>0</th>\n",
       "      <td>1/18/2015</td>\n",
       "      <td>9</td>\n",
       "      <td>312</td>\n",
       "      <td>1</td>\n",
       "      <td>1</td>\n",
       "    </tr>\n",
       "    <tr>\n",
       "      <th>1</th>\n",
       "      <td>1/18/2015</td>\n",
       "      <td>10</td>\n",
       "      <td>310</td>\n",
       "      <td>1</td>\n",
       "      <td>2</td>\n",
       "    </tr>\n",
       "    <tr>\n",
       "      <th>2</th>\n",
       "      <td>1/21/2015</td>\n",
       "      <td>8</td>\n",
       "      <td>346</td>\n",
       "      <td>1</td>\n",
       "      <td>3</td>\n",
       "    </tr>\n",
       "    <tr>\n",
       "      <th>3</th>\n",
       "      <td>1/22/2015</td>\n",
       "      <td>4</td>\n",
       "      <td>311</td>\n",
       "      <td>1</td>\n",
       "      <td>4</td>\n",
       "    </tr>\n",
       "    <tr>\n",
       "      <th>4</th>\n",
       "      <td>2/2/2015</td>\n",
       "      <td>6</td>\n",
       "      <td>312</td>\n",
       "      <td>1</td>\n",
       "      <td>5</td>\n",
       "    </tr>\n",
       "  </tbody>\n",
       "</table>\n",
       "</div>"
      ],
      "text/plain": [
       "  ReturnDate  TerritoryKey  ProductKey  ReturnQuantity  Return_ID\n",
       "0  1/18/2015             9         312               1          1\n",
       "1  1/18/2015            10         310               1          2\n",
       "2  1/21/2015             8         346               1          3\n",
       "3  1/22/2015             4         311               1          4\n",
       "4   2/2/2015             6         312               1          5"
      ]
     },
     "execution_count": 7,
     "metadata": {},
     "output_type": "execute_result"
    }
   ],
   "source": [
    "#Return table\n",
    "query_returns.head(5)"
   ]
  },
  {
   "cell_type": "code",
   "execution_count": 8,
   "id": "42e7dc41-efc6-4d57-b657-ffe5dd32692f",
   "metadata": {},
   "outputs": [
    {
     "name": "stdout",
     "output_type": "stream",
     "text": [
      "<class 'pandas.core.frame.DataFrame'>\n",
      "RangeIndex: 1809 entries, 0 to 1808\n",
      "Data columns (total 5 columns):\n",
      " #   Column          Non-Null Count  Dtype \n",
      "---  ------          --------------  ----- \n",
      " 0   ReturnDate      1809 non-null   object\n",
      " 1   TerritoryKey    1809 non-null   int64 \n",
      " 2   ProductKey      1809 non-null   int64 \n",
      " 3   ReturnQuantity  1809 non-null   int64 \n",
      " 4   Return_ID       1809 non-null   int64 \n",
      "dtypes: int64(4), object(1)\n",
      "memory usage: 70.8+ KB\n"
     ]
    }
   ],
   "source": [
    "query_returns.info()"
   ]
  },
  {
   "cell_type": "code",
   "execution_count": 9,
   "id": "cd7d3086-8e94-46c7-bf0d-cfce10f34009",
   "metadata": {},
   "outputs": [
    {
     "data": {
      "text/html": [
       "<div>\n",
       "<style scoped>\n",
       "    .dataframe tbody tr th:only-of-type {\n",
       "        vertical-align: middle;\n",
       "    }\n",
       "\n",
       "    .dataframe tbody tr th {\n",
       "        vertical-align: top;\n",
       "    }\n",
       "\n",
       "    .dataframe thead th {\n",
       "        text-align: right;\n",
       "    }\n",
       "</style>\n",
       "<table border=\"1\" class=\"dataframe\">\n",
       "  <thead>\n",
       "    <tr style=\"text-align: right;\">\n",
       "      <th></th>\n",
       "      <th>CustomerKey</th>\n",
       "      <th>Prefix</th>\n",
       "      <th>FirstName</th>\n",
       "      <th>LastName</th>\n",
       "      <th>BirthDate</th>\n",
       "      <th>MaritalStatus</th>\n",
       "      <th>Gender</th>\n",
       "      <th>EmailAddress</th>\n",
       "      <th>AnnualIncome</th>\n",
       "      <th>TotalChildren</th>\n",
       "      <th>EducationLevel</th>\n",
       "      <th>Occupation</th>\n",
       "      <th>HomeOwner</th>\n",
       "    </tr>\n",
       "  </thead>\n",
       "  <tbody>\n",
       "    <tr>\n",
       "      <th>0</th>\n",
       "      <td>11000</td>\n",
       "      <td>MR.</td>\n",
       "      <td>JON</td>\n",
       "      <td>YANG</td>\n",
       "      <td>4/8/1966</td>\n",
       "      <td>M</td>\n",
       "      <td>M</td>\n",
       "      <td>jon24@adventure-works.com</td>\n",
       "      <td>90,000.00</td>\n",
       "      <td>2</td>\n",
       "      <td>Bachelors</td>\n",
       "      <td>Professional</td>\n",
       "      <td>Y</td>\n",
       "    </tr>\n",
       "    <tr>\n",
       "      <th>1</th>\n",
       "      <td>11001</td>\n",
       "      <td>MR.</td>\n",
       "      <td>EUGENE</td>\n",
       "      <td>HUANG</td>\n",
       "      <td>5/14/1965</td>\n",
       "      <td>S</td>\n",
       "      <td>M</td>\n",
       "      <td>eugene10@adventure-works.com</td>\n",
       "      <td>60,000.00</td>\n",
       "      <td>3</td>\n",
       "      <td>Bachelors</td>\n",
       "      <td>Professional</td>\n",
       "      <td>N</td>\n",
       "    </tr>\n",
       "    <tr>\n",
       "      <th>2</th>\n",
       "      <td>11002</td>\n",
       "      <td>MR.</td>\n",
       "      <td>RUBEN</td>\n",
       "      <td>TORRES</td>\n",
       "      <td>8/12/1965</td>\n",
       "      <td>M</td>\n",
       "      <td>M</td>\n",
       "      <td>ruben35@adventure-works.com</td>\n",
       "      <td>60,000.00</td>\n",
       "      <td>3</td>\n",
       "      <td>Bachelors</td>\n",
       "      <td>Professional</td>\n",
       "      <td>Y</td>\n",
       "    </tr>\n",
       "    <tr>\n",
       "      <th>3</th>\n",
       "      <td>11003</td>\n",
       "      <td>MS.</td>\n",
       "      <td>CHRISTY</td>\n",
       "      <td>ZHU</td>\n",
       "      <td>2/15/1968</td>\n",
       "      <td>S</td>\n",
       "      <td>F</td>\n",
       "      <td>christy12@adventure-works.com</td>\n",
       "      <td>70,000.00</td>\n",
       "      <td>0</td>\n",
       "      <td>Bachelors</td>\n",
       "      <td>Professional</td>\n",
       "      <td>N</td>\n",
       "    </tr>\n",
       "    <tr>\n",
       "      <th>4</th>\n",
       "      <td>11004</td>\n",
       "      <td>MRS.</td>\n",
       "      <td>ELIZABETH</td>\n",
       "      <td>JOHNSON</td>\n",
       "      <td>8/8/1968</td>\n",
       "      <td>S</td>\n",
       "      <td>F</td>\n",
       "      <td>elizabeth5@adventure-works.com</td>\n",
       "      <td>80,000.00</td>\n",
       "      <td>5</td>\n",
       "      <td>Bachelors</td>\n",
       "      <td>Professional</td>\n",
       "      <td>Y</td>\n",
       "    </tr>\n",
       "  </tbody>\n",
       "</table>\n",
       "</div>"
      ],
      "text/plain": [
       "   CustomerKey Prefix  FirstName LastName  BirthDate MaritalStatus Gender  \\\n",
       "0        11000    MR.        JON     YANG   4/8/1966             M      M   \n",
       "1        11001    MR.     EUGENE    HUANG  5/14/1965             S      M   \n",
       "2        11002    MR.      RUBEN   TORRES  8/12/1965             M      M   \n",
       "3        11003    MS.    CHRISTY      ZHU  2/15/1968             S      F   \n",
       "4        11004   MRS.  ELIZABETH  JOHNSON   8/8/1968             S      F   \n",
       "\n",
       "                     EmailAddress AnnualIncome  TotalChildren EducationLevel  \\\n",
       "0       jon24@adventure-works.com    90,000.00              2      Bachelors   \n",
       "1    eugene10@adventure-works.com    60,000.00              3      Bachelors   \n",
       "2     ruben35@adventure-works.com    60,000.00              3      Bachelors   \n",
       "3   christy12@adventure-works.com    70,000.00              0      Bachelors   \n",
       "4  elizabeth5@adventure-works.com    80,000.00              5      Bachelors   \n",
       "\n",
       "     Occupation HomeOwner  \n",
       "0  Professional         Y  \n",
       "1  Professional         N  \n",
       "2  Professional         Y  \n",
       "3  Professional         N  \n",
       "4  Professional         Y  "
      ]
     },
     "execution_count": 9,
     "metadata": {},
     "output_type": "execute_result"
    }
   ],
   "source": [
    "#Customer Table\n",
    "query_Customers.head(5)"
   ]
  },
  {
   "cell_type": "code",
   "execution_count": 10,
   "id": "4d6fefc0-1714-4c37-a972-9dc5bf00fe1e",
   "metadata": {},
   "outputs": [
    {
     "name": "stdout",
     "output_type": "stream",
     "text": [
      "<class 'pandas.core.frame.DataFrame'>\n",
      "RangeIndex: 18148 entries, 0 to 18147\n",
      "Data columns (total 13 columns):\n",
      " #   Column          Non-Null Count  Dtype \n",
      "---  ------          --------------  ----- \n",
      " 0   CustomerKey     18148 non-null  int64 \n",
      " 1   Prefix          18018 non-null  object\n",
      " 2   FirstName       18148 non-null  object\n",
      " 3   LastName        18148 non-null  object\n",
      " 4   BirthDate       18148 non-null  object\n",
      " 5   MaritalStatus   18148 non-null  object\n",
      " 6   Gender          18148 non-null  object\n",
      " 7   EmailAddress    18148 non-null  object\n",
      " 8   AnnualIncome    18148 non-null  object\n",
      " 9   TotalChildren   18148 non-null  int64 \n",
      " 10  EducationLevel  18148 non-null  object\n",
      " 11  Occupation      18148 non-null  object\n",
      " 12  HomeOwner       18148 non-null  object\n",
      "dtypes: int64(2), object(11)\n",
      "memory usage: 1.8+ MB\n"
     ]
    }
   ],
   "source": [
    "query_Customers.info()"
   ]
  },
  {
   "cell_type": "code",
   "execution_count": 11,
   "id": "061245fd-b3ad-43c2-adbb-34870fa05171",
   "metadata": {},
   "outputs": [
    {
     "data": {
      "text/html": [
       "<div>\n",
       "<style scoped>\n",
       "    .dataframe tbody tr th:only-of-type {\n",
       "        vertical-align: middle;\n",
       "    }\n",
       "\n",
       "    .dataframe tbody tr th {\n",
       "        vertical-align: top;\n",
       "    }\n",
       "\n",
       "    .dataframe thead th {\n",
       "        text-align: right;\n",
       "    }\n",
       "</style>\n",
       "<table border=\"1\" class=\"dataframe\">\n",
       "  <thead>\n",
       "    <tr style=\"text-align: right;\">\n",
       "      <th></th>\n",
       "      <th>ProductKey</th>\n",
       "      <th>ProductSubcategoryKey</th>\n",
       "      <th>ProductSKU</th>\n",
       "      <th>ProductName</th>\n",
       "      <th>ModelName</th>\n",
       "      <th>ProductDescription</th>\n",
       "      <th>ProductColor</th>\n",
       "      <th>ProductSize</th>\n",
       "      <th>ProductStyle</th>\n",
       "      <th>ProductCost</th>\n",
       "      <th>ProductPrice</th>\n",
       "    </tr>\n",
       "  </thead>\n",
       "  <tbody>\n",
       "    <tr>\n",
       "      <th>0</th>\n",
       "      <td>214</td>\n",
       "      <td>31</td>\n",
       "      <td>HL-U509-R</td>\n",
       "      <td>Sport-100 Helmet, Red</td>\n",
       "      <td>Sport-100</td>\n",
       "      <td>Universal fit, well-vented, lightweight , snap...</td>\n",
       "      <td>Red</td>\n",
       "      <td>0</td>\n",
       "      <td>0</td>\n",
       "      <td>13.0863</td>\n",
       "      <td>34.9900</td>\n",
       "    </tr>\n",
       "    <tr>\n",
       "      <th>1</th>\n",
       "      <td>215</td>\n",
       "      <td>31</td>\n",
       "      <td>HL-U509</td>\n",
       "      <td>Sport-100 Helmet, Black</td>\n",
       "      <td>Sport-100</td>\n",
       "      <td>Universal fit, well-vented, lightweight , snap...</td>\n",
       "      <td>Black</td>\n",
       "      <td>0</td>\n",
       "      <td>0</td>\n",
       "      <td>12.0278</td>\n",
       "      <td>33.6442</td>\n",
       "    </tr>\n",
       "    <tr>\n",
       "      <th>2</th>\n",
       "      <td>218</td>\n",
       "      <td>23</td>\n",
       "      <td>SO-B909-M</td>\n",
       "      <td>Mountain Bike Socks, M</td>\n",
       "      <td>Mountain Bike Socks</td>\n",
       "      <td>Combination of natural and synthetic fibers st...</td>\n",
       "      <td>White</td>\n",
       "      <td>M</td>\n",
       "      <td>U</td>\n",
       "      <td>3.3963</td>\n",
       "      <td>9.5000</td>\n",
       "    </tr>\n",
       "    <tr>\n",
       "      <th>3</th>\n",
       "      <td>219</td>\n",
       "      <td>23</td>\n",
       "      <td>SO-B909-L</td>\n",
       "      <td>Mountain Bike Socks, L</td>\n",
       "      <td>Mountain Bike Socks</td>\n",
       "      <td>Combination of natural and synthetic fibers st...</td>\n",
       "      <td>White</td>\n",
       "      <td>L</td>\n",
       "      <td>U</td>\n",
       "      <td>3.3963</td>\n",
       "      <td>9.5000</td>\n",
       "    </tr>\n",
       "    <tr>\n",
       "      <th>4</th>\n",
       "      <td>220</td>\n",
       "      <td>31</td>\n",
       "      <td>HL-U509-B</td>\n",
       "      <td>Sport-100 Helmet, Blue</td>\n",
       "      <td>Sport-100</td>\n",
       "      <td>Universal fit, well-vented, lightweight , snap...</td>\n",
       "      <td>Blue</td>\n",
       "      <td>0</td>\n",
       "      <td>0</td>\n",
       "      <td>12.0278</td>\n",
       "      <td>33.6442</td>\n",
       "    </tr>\n",
       "  </tbody>\n",
       "</table>\n",
       "</div>"
      ],
      "text/plain": [
       "   ProductKey  ProductSubcategoryKey ProductSKU              ProductName  \\\n",
       "0         214                     31  HL-U509-R    Sport-100 Helmet, Red   \n",
       "1         215                     31    HL-U509  Sport-100 Helmet, Black   \n",
       "2         218                     23  SO-B909-M   Mountain Bike Socks, M   \n",
       "3         219                     23  SO-B909-L   Mountain Bike Socks, L   \n",
       "4         220                     31  HL-U509-B   Sport-100 Helmet, Blue   \n",
       "\n",
       "             ModelName                                 ProductDescription  \\\n",
       "0            Sport-100  Universal fit, well-vented, lightweight , snap...   \n",
       "1            Sport-100  Universal fit, well-vented, lightweight , snap...   \n",
       "2  Mountain Bike Socks  Combination of natural and synthetic fibers st...   \n",
       "3  Mountain Bike Socks  Combination of natural and synthetic fibers st...   \n",
       "4            Sport-100  Universal fit, well-vented, lightweight , snap...   \n",
       "\n",
       "  ProductColor ProductSize ProductStyle  ProductCost  ProductPrice  \n",
       "0          Red           0            0      13.0863       34.9900  \n",
       "1        Black           0            0      12.0278       33.6442  \n",
       "2        White           M            U       3.3963        9.5000  \n",
       "3        White           L            U       3.3963        9.5000  \n",
       "4         Blue           0            0      12.0278       33.6442  "
      ]
     },
     "execution_count": 11,
     "metadata": {},
     "output_type": "execute_result"
    }
   ],
   "source": [
    "#Product table\n",
    "query_products.head(5)"
   ]
  },
  {
   "cell_type": "code",
   "execution_count": 13,
   "id": "7f09e0fc-67bd-412c-bd66-f18d57e09760",
   "metadata": {},
   "outputs": [
    {
     "name": "stdout",
     "output_type": "stream",
     "text": [
      "<class 'pandas.core.frame.DataFrame'>\n",
      "RangeIndex: 293 entries, 0 to 292\n",
      "Data columns (total 11 columns):\n",
      " #   Column                 Non-Null Count  Dtype  \n",
      "---  ------                 --------------  -----  \n",
      " 0   ProductKey             293 non-null    int64  \n",
      " 1   ProductSubcategoryKey  293 non-null    int64  \n",
      " 2   ProductSKU             293 non-null    object \n",
      " 3   ProductName            293 non-null    object \n",
      " 4   ModelName              293 non-null    object \n",
      " 5   ProductDescription     293 non-null    object \n",
      " 6   ProductColor           293 non-null    object \n",
      " 7   ProductSize            293 non-null    object \n",
      " 8   ProductStyle           293 non-null    object \n",
      " 9   ProductCost            293 non-null    float64\n",
      " 10  ProductPrice           293 non-null    float64\n",
      "dtypes: float64(2), int64(2), object(7)\n",
      "memory usage: 25.3+ KB\n"
     ]
    }
   ],
   "source": [
    "query_products.info()"
   ]
  },
  {
   "cell_type": "code",
   "execution_count": 14,
   "id": "c512d5bb-850a-4784-b60d-19f452eab501",
   "metadata": {},
   "outputs": [
    {
     "data": {
      "text/html": [
       "<div>\n",
       "<style scoped>\n",
       "    .dataframe tbody tr th:only-of-type {\n",
       "        vertical-align: middle;\n",
       "    }\n",
       "\n",
       "    .dataframe tbody tr th {\n",
       "        vertical-align: top;\n",
       "    }\n",
       "\n",
       "    .dataframe thead th {\n",
       "        text-align: right;\n",
       "    }\n",
       "</style>\n",
       "<table border=\"1\" class=\"dataframe\">\n",
       "  <thead>\n",
       "    <tr style=\"text-align: right;\">\n",
       "      <th></th>\n",
       "      <th>ProductCategoryKey</th>\n",
       "      <th>CategoryName</th>\n",
       "    </tr>\n",
       "  </thead>\n",
       "  <tbody>\n",
       "    <tr>\n",
       "      <th>0</th>\n",
       "      <td>1</td>\n",
       "      <td>Bikes</td>\n",
       "    </tr>\n",
       "    <tr>\n",
       "      <th>1</th>\n",
       "      <td>2</td>\n",
       "      <td>Components</td>\n",
       "    </tr>\n",
       "    <tr>\n",
       "      <th>2</th>\n",
       "      <td>3</td>\n",
       "      <td>Clothing</td>\n",
       "    </tr>\n",
       "    <tr>\n",
       "      <th>3</th>\n",
       "      <td>4</td>\n",
       "      <td>Accessories</td>\n",
       "    </tr>\n",
       "  </tbody>\n",
       "</table>\n",
       "</div>"
      ],
      "text/plain": [
       "   ProductCategoryKey CategoryName\n",
       "0                   1        Bikes\n",
       "1                   2   Components\n",
       "2                   3     Clothing\n",
       "3                   4  Accessories"
      ]
     },
     "execution_count": 14,
     "metadata": {},
     "output_type": "execute_result"
    }
   ],
   "source": [
    "#Product Catergory\n",
    "query_Product_Categories.head(5)"
   ]
  },
  {
   "cell_type": "code",
   "execution_count": 15,
   "id": "ae9b028f-9994-4e93-9748-ec772a000a19",
   "metadata": {},
   "outputs": [
    {
     "name": "stdout",
     "output_type": "stream",
     "text": [
      "<class 'pandas.core.frame.DataFrame'>\n",
      "RangeIndex: 4 entries, 0 to 3\n",
      "Data columns (total 2 columns):\n",
      " #   Column              Non-Null Count  Dtype \n",
      "---  ------              --------------  ----- \n",
      " 0   ProductCategoryKey  4 non-null      int64 \n",
      " 1   CategoryName        4 non-null      object\n",
      "dtypes: int64(1), object(1)\n",
      "memory usage: 196.0+ bytes\n"
     ]
    }
   ],
   "source": [
    "query_Product_Categories.info()"
   ]
  },
  {
   "cell_type": "code",
   "execution_count": 16,
   "id": "0bb09b7e-2e0b-44d6-93fe-b3c521902017",
   "metadata": {},
   "outputs": [
    {
     "data": {
      "text/html": [
       "<div>\n",
       "<style scoped>\n",
       "    .dataframe tbody tr th:only-of-type {\n",
       "        vertical-align: middle;\n",
       "    }\n",
       "\n",
       "    .dataframe tbody tr th {\n",
       "        vertical-align: top;\n",
       "    }\n",
       "\n",
       "    .dataframe thead th {\n",
       "        text-align: right;\n",
       "    }\n",
       "</style>\n",
       "<table border=\"1\" class=\"dataframe\">\n",
       "  <thead>\n",
       "    <tr style=\"text-align: right;\">\n",
       "      <th></th>\n",
       "      <th>ProductSubcategoryKey</th>\n",
       "      <th>SubcategoryName</th>\n",
       "      <th>ProductCategoryKey</th>\n",
       "    </tr>\n",
       "  </thead>\n",
       "  <tbody>\n",
       "    <tr>\n",
       "      <th>0</th>\n",
       "      <td>1</td>\n",
       "      <td>Mountain Bikes</td>\n",
       "      <td>1</td>\n",
       "    </tr>\n",
       "    <tr>\n",
       "      <th>1</th>\n",
       "      <td>2</td>\n",
       "      <td>Road Bikes</td>\n",
       "      <td>1</td>\n",
       "    </tr>\n",
       "    <tr>\n",
       "      <th>2</th>\n",
       "      <td>3</td>\n",
       "      <td>Touring Bikes</td>\n",
       "      <td>1</td>\n",
       "    </tr>\n",
       "    <tr>\n",
       "      <th>3</th>\n",
       "      <td>4</td>\n",
       "      <td>Handlebars</td>\n",
       "      <td>2</td>\n",
       "    </tr>\n",
       "    <tr>\n",
       "      <th>4</th>\n",
       "      <td>5</td>\n",
       "      <td>Bottom Brackets</td>\n",
       "      <td>2</td>\n",
       "    </tr>\n",
       "  </tbody>\n",
       "</table>\n",
       "</div>"
      ],
      "text/plain": [
       "   ProductSubcategoryKey  SubcategoryName  ProductCategoryKey\n",
       "0                      1   Mountain Bikes                   1\n",
       "1                      2       Road Bikes                   1\n",
       "2                      3    Touring Bikes                   1\n",
       "3                      4       Handlebars                   2\n",
       "4                      5  Bottom Brackets                   2"
      ]
     },
     "execution_count": 16,
     "metadata": {},
     "output_type": "execute_result"
    }
   ],
   "source": [
    "query_Product_Subcategories.head(5)"
   ]
  },
  {
   "cell_type": "code",
   "execution_count": 17,
   "id": "31ce7646-1519-48e9-9755-597ff12a4851",
   "metadata": {},
   "outputs": [
    {
     "name": "stdout",
     "output_type": "stream",
     "text": [
      "<class 'pandas.core.frame.DataFrame'>\n",
      "RangeIndex: 37 entries, 0 to 36\n",
      "Data columns (total 3 columns):\n",
      " #   Column                 Non-Null Count  Dtype \n",
      "---  ------                 --------------  ----- \n",
      " 0   ProductSubcategoryKey  37 non-null     int64 \n",
      " 1   SubcategoryName        37 non-null     object\n",
      " 2   ProductCategoryKey     37 non-null     int64 \n",
      "dtypes: int64(2), object(1)\n",
      "memory usage: 1020.0+ bytes\n"
     ]
    }
   ],
   "source": [
    "query_Product_Subcategories.info()"
   ]
  },
  {
   "cell_type": "code",
   "execution_count": 19,
   "id": "beda2e5b-618e-47fb-8032-56eb076ca527",
   "metadata": {},
   "outputs": [
    {
     "data": {
      "text/html": [
       "<div>\n",
       "<style scoped>\n",
       "    .dataframe tbody tr th:only-of-type {\n",
       "        vertical-align: middle;\n",
       "    }\n",
       "\n",
       "    .dataframe tbody tr th {\n",
       "        vertical-align: top;\n",
       "    }\n",
       "\n",
       "    .dataframe thead th {\n",
       "        text-align: right;\n",
       "    }\n",
       "</style>\n",
       "<table border=\"1\" class=\"dataframe\">\n",
       "  <thead>\n",
       "    <tr style=\"text-align: right;\">\n",
       "      <th></th>\n",
       "      <th>SalesTerritoryKey</th>\n",
       "      <th>Region</th>\n",
       "      <th>Country</th>\n",
       "      <th>Continent</th>\n",
       "    </tr>\n",
       "  </thead>\n",
       "  <tbody>\n",
       "    <tr>\n",
       "      <th>0</th>\n",
       "      <td>1</td>\n",
       "      <td>Northwest</td>\n",
       "      <td>United States</td>\n",
       "      <td>North America</td>\n",
       "    </tr>\n",
       "    <tr>\n",
       "      <th>1</th>\n",
       "      <td>2</td>\n",
       "      <td>Northeast</td>\n",
       "      <td>United States</td>\n",
       "      <td>North America</td>\n",
       "    </tr>\n",
       "    <tr>\n",
       "      <th>2</th>\n",
       "      <td>3</td>\n",
       "      <td>Central</td>\n",
       "      <td>United States</td>\n",
       "      <td>North America</td>\n",
       "    </tr>\n",
       "    <tr>\n",
       "      <th>3</th>\n",
       "      <td>4</td>\n",
       "      <td>Southwest</td>\n",
       "      <td>United States</td>\n",
       "      <td>North America</td>\n",
       "    </tr>\n",
       "    <tr>\n",
       "      <th>4</th>\n",
       "      <td>5</td>\n",
       "      <td>Southeast</td>\n",
       "      <td>United States</td>\n",
       "      <td>North America</td>\n",
       "    </tr>\n",
       "  </tbody>\n",
       "</table>\n",
       "</div>"
      ],
      "text/plain": [
       "   SalesTerritoryKey     Region        Country      Continent\n",
       "0                  1  Northwest  United States  North America\n",
       "1                  2  Northeast  United States  North America\n",
       "2                  3    Central  United States  North America\n",
       "3                  4  Southwest  United States  North America\n",
       "4                  5  Southeast  United States  North America"
      ]
     },
     "execution_count": 19,
     "metadata": {},
     "output_type": "execute_result"
    }
   ],
   "source": [
    "query_Product_Territories.head(5)"
   ]
  },
  {
   "cell_type": "code",
   "execution_count": 20,
   "id": "4811746a-a450-4e81-a6d1-1dcc8ba65a19",
   "metadata": {},
   "outputs": [
    {
     "name": "stdout",
     "output_type": "stream",
     "text": [
      "<class 'pandas.core.frame.DataFrame'>\n",
      "RangeIndex: 10 entries, 0 to 9\n",
      "Data columns (total 4 columns):\n",
      " #   Column             Non-Null Count  Dtype \n",
      "---  ------             --------------  ----- \n",
      " 0   SalesTerritoryKey  10 non-null     int64 \n",
      " 1   Region             10 non-null     object\n",
      " 2   Country            10 non-null     object\n",
      " 3   Continent          10 non-null     object\n",
      "dtypes: int64(1), object(3)\n",
      "memory usage: 452.0+ bytes\n"
     ]
    }
   ],
   "source": [
    "query_Product_Territories.info()"
   ]
  },
  {
   "cell_type": "code",
   "execution_count": 23,
   "id": "465bdaaf-3627-40b5-b0d2-5bbad3265d5b",
   "metadata": {},
   "outputs": [
    {
     "data": {
      "text/html": [
       "<div>\n",
       "<style scoped>\n",
       "    .dataframe tbody tr th:only-of-type {\n",
       "        vertical-align: middle;\n",
       "    }\n",
       "\n",
       "    .dataframe tbody tr th {\n",
       "        vertical-align: top;\n",
       "    }\n",
       "\n",
       "    .dataframe thead th {\n",
       "        text-align: right;\n",
       "    }\n",
       "</style>\n",
       "<table border=\"1\" class=\"dataframe\">\n",
       "  <thead>\n",
       "    <tr style=\"text-align: right;\">\n",
       "      <th></th>\n",
       "      <th>Date</th>\n",
       "      <th>Year</th>\n",
       "      <th>Month</th>\n",
       "    </tr>\n",
       "  </thead>\n",
       "  <tbody>\n",
       "    <tr>\n",
       "      <th>0</th>\n",
       "      <td>1/1/2015</td>\n",
       "      <td>2015</td>\n",
       "      <td>1</td>\n",
       "    </tr>\n",
       "    <tr>\n",
       "      <th>1</th>\n",
       "      <td>1/2/2015</td>\n",
       "      <td>2015</td>\n",
       "      <td>1</td>\n",
       "    </tr>\n",
       "    <tr>\n",
       "      <th>2</th>\n",
       "      <td>1/3/2015</td>\n",
       "      <td>2015</td>\n",
       "      <td>1</td>\n",
       "    </tr>\n",
       "    <tr>\n",
       "      <th>3</th>\n",
       "      <td>1/4/2015</td>\n",
       "      <td>2015</td>\n",
       "      <td>1</td>\n",
       "    </tr>\n",
       "    <tr>\n",
       "      <th>4</th>\n",
       "      <td>1/5/2015</td>\n",
       "      <td>2015</td>\n",
       "      <td>1</td>\n",
       "    </tr>\n",
       "  </tbody>\n",
       "</table>\n",
       "</div>"
      ],
      "text/plain": [
       "       Date  Year Month\n",
       "0  1/1/2015  2015     1\n",
       "1  1/2/2015  2015     1\n",
       "2  1/3/2015  2015     1\n",
       "3  1/4/2015  2015     1\n",
       "4  1/5/2015  2015     1"
      ]
     },
     "execution_count": 23,
     "metadata": {},
     "output_type": "execute_result"
    }
   ],
   "source": [
    "#Calender\n",
    "query_Calender.head(5)"
   ]
  },
  {
   "cell_type": "code",
   "execution_count": 21,
   "id": "f9e1aeda-ce27-4246-8e23-7b62864d5917",
   "metadata": {},
   "outputs": [
    {
     "name": "stdout",
     "output_type": "stream",
     "text": [
      "<class 'pandas.core.frame.DataFrame'>\n",
      "RangeIndex: 912 entries, 0 to 911\n",
      "Data columns (total 3 columns):\n",
      " #   Column  Non-Null Count  Dtype \n",
      "---  ------  --------------  ----- \n",
      " 0   Date    912 non-null    object\n",
      " 1   Year    912 non-null    object\n",
      " 2   Month   912 non-null    object\n",
      "dtypes: object(3)\n",
      "memory usage: 21.5+ KB\n"
     ]
    }
   ],
   "source": [
    "query_Calender.info()"
   ]
  },
  {
   "cell_type": "markdown",
   "id": "aa31fa2c-9f04-4929-a547-bb2a6e3caf98",
   "metadata": {},
   "source": [
    "## Converting data into a suitable format"
   ]
  },
  {
   "cell_type": "markdown",
   "id": "06192a20-132e-4b78-a582-7a15d536ce93",
   "metadata": {},
   "source": [
    "#### converting all date to be in a date time format"
   ]
  },
  {
   "cell_type": "code",
   "execution_count": 23,
   "id": "94f69931-c5f1-4595-a46b-5ec3b11974cf",
   "metadata": {},
   "outputs": [
    {
     "name": "stdout",
     "output_type": "stream",
     "text": [
      "Date have been successfully converted to datetime format.\n"
     ]
    }
   ],
   "source": [
    "\n",
    "\n",
    "#changeOrder Date and StockDate type from being object to dateformart\n",
    "query_sales['OrderDate'] = pd.to_datetime(query_sales['OrderDate'])\n",
    "query_sales['StockDate'] = pd.to_datetime(query_sales['StockDate'])\n",
    "\n",
    "#change Return Date type from being object to dateformart\n",
    "query_returns['ReturnDate'] = pd.to_datetime(query_returns['ReturnDate'])\n",
    "\n",
    "#change Return Date type from being object to dateformart\n",
    "query_Calender['Date'] = pd.to_datetime(query_Calender['Date'])\n",
    "\n",
    "print(\"Date have been successfully converted to datetime format.\")"
   ]
  },
  {
   "cell_type": "markdown",
   "id": "7954ab40-9907-4493-8e9c-66d2e6270d06",
   "metadata": {},
   "source": [
    "#### Convert Annual Income Data type to float"
   ]
  },
  {
   "cell_type": "code",
   "execution_count": 24,
   "id": "a7477bdf-896c-4ca0-826c-9ebede26124e",
   "metadata": {},
   "outputs": [
    {
     "name": "stdout",
     "output_type": "stream",
     "text": [
      "CustomerKey         int64\n",
      "Prefix             object\n",
      "FirstName          object\n",
      "LastName           object\n",
      "BirthDate          object\n",
      "MaritalStatus      object\n",
      "Gender             object\n",
      "EmailAddress       object\n",
      "AnnualIncome      float64\n",
      "TotalChildren       int64\n",
      "EducationLevel     object\n",
      "Occupation         object\n",
      "HomeOwner          object\n",
      "dtype: object\n"
     ]
    }
   ],
   "source": [
    "#Remove any unwanted characters (commas and currency symbols like '$')\n",
    "query_Customers['AnnualIncome'] = query_Customers['AnnualIncome'].replace({'\\$': '', ',': ''}, regex=True)\n",
    "# Convert to float\n",
    "query_Customers['AnnualIncome'] = pd.to_numeric(query_Customers['AnnualIncome'], errors='coerce').astype(float)\n",
    "# Check the result\n",
    "print(query_Customers.dtypes)  # Ensure that AnnualIncome is now float"
   ]
  },
  {
   "cell_type": "markdown",
   "id": "1ced5655-f922-4d81-ba72-f547177ba519",
   "metadata": {},
   "source": [
    "#### Normalize string columns"
   ]
  },
  {
   "cell_type": "code",
   "execution_count": 27,
   "id": "6f7bd51c-90db-4feb-a777-1f9c609f5192",
   "metadata": {},
   "outputs": [],
   "source": [
    "# Normalize string columns\n",
    "query_Customers['FirstName'] = query_Customers['FirstName'].str.strip().str.capitalize()\n",
    "query_Customers['LastName'] = query_Customers['LastName'].str.strip().str.capitalize()\n",
    "query_Customers['Prefix'] = query_Customers['Prefix'].str.strip().str.capitalize()"
   ]
  },
  {
   "cell_type": "code",
   "execution_count": 28,
   "id": "d66a6942-64cc-4334-8fbc-20e4f3611b14",
   "metadata": {},
   "outputs": [
    {
     "data": {
      "text/html": [
       "<div>\n",
       "<style scoped>\n",
       "    .dataframe tbody tr th:only-of-type {\n",
       "        vertical-align: middle;\n",
       "    }\n",
       "\n",
       "    .dataframe tbody tr th {\n",
       "        vertical-align: top;\n",
       "    }\n",
       "\n",
       "    .dataframe thead th {\n",
       "        text-align: right;\n",
       "    }\n",
       "</style>\n",
       "<table border=\"1\" class=\"dataframe\">\n",
       "  <thead>\n",
       "    <tr style=\"text-align: right;\">\n",
       "      <th></th>\n",
       "      <th>CustomerKey</th>\n",
       "      <th>Prefix</th>\n",
       "      <th>FirstName</th>\n",
       "      <th>LastName</th>\n",
       "      <th>BirthDate</th>\n",
       "      <th>MaritalStatus</th>\n",
       "      <th>Gender</th>\n",
       "      <th>EmailAddress</th>\n",
       "      <th>AnnualIncome</th>\n",
       "      <th>TotalChildren</th>\n",
       "      <th>EducationLevel</th>\n",
       "      <th>Occupation</th>\n",
       "      <th>HomeOwner</th>\n",
       "    </tr>\n",
       "  </thead>\n",
       "  <tbody>\n",
       "    <tr>\n",
       "      <th>0</th>\n",
       "      <td>11000</td>\n",
       "      <td>Mr.</td>\n",
       "      <td>Jon</td>\n",
       "      <td>Yang</td>\n",
       "      <td>4/8/1966</td>\n",
       "      <td>M</td>\n",
       "      <td>M</td>\n",
       "      <td>jon24@adventure-works.com</td>\n",
       "      <td>90000.0</td>\n",
       "      <td>2</td>\n",
       "      <td>Bachelors</td>\n",
       "      <td>Professional</td>\n",
       "      <td>Y</td>\n",
       "    </tr>\n",
       "    <tr>\n",
       "      <th>1</th>\n",
       "      <td>11001</td>\n",
       "      <td>Mr.</td>\n",
       "      <td>Eugene</td>\n",
       "      <td>Huang</td>\n",
       "      <td>5/14/1965</td>\n",
       "      <td>S</td>\n",
       "      <td>M</td>\n",
       "      <td>eugene10@adventure-works.com</td>\n",
       "      <td>60000.0</td>\n",
       "      <td>3</td>\n",
       "      <td>Bachelors</td>\n",
       "      <td>Professional</td>\n",
       "      <td>N</td>\n",
       "    </tr>\n",
       "    <tr>\n",
       "      <th>2</th>\n",
       "      <td>11002</td>\n",
       "      <td>Mr.</td>\n",
       "      <td>Ruben</td>\n",
       "      <td>Torres</td>\n",
       "      <td>8/12/1965</td>\n",
       "      <td>M</td>\n",
       "      <td>M</td>\n",
       "      <td>ruben35@adventure-works.com</td>\n",
       "      <td>60000.0</td>\n",
       "      <td>3</td>\n",
       "      <td>Bachelors</td>\n",
       "      <td>Professional</td>\n",
       "      <td>Y</td>\n",
       "    </tr>\n",
       "    <tr>\n",
       "      <th>3</th>\n",
       "      <td>11003</td>\n",
       "      <td>Ms.</td>\n",
       "      <td>Christy</td>\n",
       "      <td>Zhu</td>\n",
       "      <td>2/15/1968</td>\n",
       "      <td>S</td>\n",
       "      <td>F</td>\n",
       "      <td>christy12@adventure-works.com</td>\n",
       "      <td>70000.0</td>\n",
       "      <td>0</td>\n",
       "      <td>Bachelors</td>\n",
       "      <td>Professional</td>\n",
       "      <td>N</td>\n",
       "    </tr>\n",
       "    <tr>\n",
       "      <th>4</th>\n",
       "      <td>11004</td>\n",
       "      <td>Mrs.</td>\n",
       "      <td>Elizabeth</td>\n",
       "      <td>Johnson</td>\n",
       "      <td>8/8/1968</td>\n",
       "      <td>S</td>\n",
       "      <td>F</td>\n",
       "      <td>elizabeth5@adventure-works.com</td>\n",
       "      <td>80000.0</td>\n",
       "      <td>5</td>\n",
       "      <td>Bachelors</td>\n",
       "      <td>Professional</td>\n",
       "      <td>Y</td>\n",
       "    </tr>\n",
       "  </tbody>\n",
       "</table>\n",
       "</div>"
      ],
      "text/plain": [
       "   CustomerKey Prefix  FirstName LastName  BirthDate MaritalStatus Gender  \\\n",
       "0        11000    Mr.        Jon     Yang   4/8/1966             M      M   \n",
       "1        11001    Mr.     Eugene    Huang  5/14/1965             S      M   \n",
       "2        11002    Mr.      Ruben   Torres  8/12/1965             M      M   \n",
       "3        11003    Ms.    Christy      Zhu  2/15/1968             S      F   \n",
       "4        11004   Mrs.  Elizabeth  Johnson   8/8/1968             S      F   \n",
       "\n",
       "                     EmailAddress  AnnualIncome  TotalChildren EducationLevel  \\\n",
       "0       jon24@adventure-works.com       90000.0              2      Bachelors   \n",
       "1    eugene10@adventure-works.com       60000.0              3      Bachelors   \n",
       "2     ruben35@adventure-works.com       60000.0              3      Bachelors   \n",
       "3   christy12@adventure-works.com       70000.0              0      Bachelors   \n",
       "4  elizabeth5@adventure-works.com       80000.0              5      Bachelors   \n",
       "\n",
       "     Occupation HomeOwner  \n",
       "0  Professional         Y  \n",
       "1  Professional         N  \n",
       "2  Professional         Y  \n",
       "3  Professional         N  \n",
       "4  Professional         Y  "
      ]
     },
     "execution_count": 28,
     "metadata": {},
     "output_type": "execute_result"
    }
   ],
   "source": [
    "query_Customers.head(5)"
   ]
  },
  {
   "cell_type": "markdown",
   "id": "66623e48-7203-4296-9d01-1316e1c7f5e2",
   "metadata": {},
   "source": [
    "## Check for outliers using IQR"
   ]
  },
  {
   "cell_type": "code",
   "execution_count": 41,
   "id": "3a97bff6-af56-42fe-b50d-a24c237e1efa",
   "metadata": {},
   "outputs": [],
   "source": [
    "# Define a function to detect outliers using IQR\n",
    "def detect_outliers_iqr(data, column):\n",
    "    Q1 = data[column].quantile(0.25)\n",
    "    Q3 = data[column].quantile(0.75)\n",
    "    IQR = Q3 - Q1\n",
    "    lower_bound = Q1 - 1.5 * IQR\n",
    "    upper_bound = Q3 + 1.5 * IQR\n",
    "    outliers = data[(data[column] < lower_bound) | (data[column] > upper_bound)]\n",
    "    return outliers\n",
    "\n",
    "# Applyed to this columns(sales_quantity,return_quantity,annual_income)\n",
    "outliers_sales_quantity = detect_outliers_iqr(query_sales, 'OrderQuantity')\n",
    "outliers_return_quantity = detect_outliers_iqr(query_returns, 'ReturnQuantity')\n",
    "outliers_annual_income = detect_outliers_iqr(query_Customers, 'AnnualIncome')\n",
    "\n",
    "# Display the outliers found\n",
    "#print(\"Outliers in Sales OrderQuantity:\\n\", outliers_sales_quantity)\n",
    "#print(\"Outliers in Returns ReturnQuantity:\\n\", outliers_return_quantity)\n",
    "#print(\"Outliers in Customers AnnualIncome:\\n\", outliers_annual_income)"
   ]
  },
  {
   "cell_type": "code",
   "execution_count": 37,
   "id": "87133702-a5c7-4cf0-bbc1-fd9406771032",
   "metadata": {},
   "outputs": [
    {
     "data": {
      "text/html": [
       "<div>\n",
       "<style scoped>\n",
       "    .dataframe tbody tr th:only-of-type {\n",
       "        vertical-align: middle;\n",
       "    }\n",
       "\n",
       "    .dataframe tbody tr th {\n",
       "        vertical-align: top;\n",
       "    }\n",
       "\n",
       "    .dataframe thead th {\n",
       "        text-align: right;\n",
       "    }\n",
       "</style>\n",
       "<table border=\"1\" class=\"dataframe\">\n",
       "  <thead>\n",
       "    <tr style=\"text-align: right;\">\n",
       "      <th></th>\n",
       "      <th>ReturnDate</th>\n",
       "      <th>TerritoryKey</th>\n",
       "      <th>ProductKey</th>\n",
       "      <th>ReturnQuantity</th>\n",
       "      <th>Return_ID</th>\n",
       "    </tr>\n",
       "  </thead>\n",
       "  <tbody>\n",
       "    <tr>\n",
       "      <th>61</th>\n",
       "      <td>2015-10-13</td>\n",
       "      <td>9</td>\n",
       "      <td>352</td>\n",
       "      <td>2</td>\n",
       "      <td>62</td>\n",
       "    </tr>\n",
       "    <tr>\n",
       "      <th>239</th>\n",
       "      <td>2016-08-19</td>\n",
       "      <td>4</td>\n",
       "      <td>477</td>\n",
       "      <td>2</td>\n",
       "      <td>240</td>\n",
       "    </tr>\n",
       "    <tr>\n",
       "      <th>283</th>\n",
       "      <td>2016-08-30</td>\n",
       "      <td>1</td>\n",
       "      <td>480</td>\n",
       "      <td>2</td>\n",
       "      <td>284</td>\n",
       "    </tr>\n",
       "    <tr>\n",
       "      <th>358</th>\n",
       "      <td>2016-09-16</td>\n",
       "      <td>6</td>\n",
       "      <td>478</td>\n",
       "      <td>2</td>\n",
       "      <td>359</td>\n",
       "    </tr>\n",
       "    <tr>\n",
       "      <th>411</th>\n",
       "      <td>2016-09-30</td>\n",
       "      <td>6</td>\n",
       "      <td>528</td>\n",
       "      <td>2</td>\n",
       "      <td>412</td>\n",
       "    </tr>\n",
       "  </tbody>\n",
       "</table>\n",
       "</div>"
      ],
      "text/plain": [
       "    ReturnDate  TerritoryKey  ProductKey  ReturnQuantity  Return_ID\n",
       "61  2015-10-13             9         352               2         62\n",
       "239 2016-08-19             4         477               2        240\n",
       "283 2016-08-30             1         480               2        284\n",
       "358 2016-09-16             6         478               2        359\n",
       "411 2016-09-30             6         528               2        412"
      ]
     },
     "execution_count": 37,
     "metadata": {},
     "output_type": "execute_result"
    }
   ],
   "source": [
    "#Outlier on return quantity\n",
    "outliers_return_quantity.head(5)"
   ]
  },
  {
   "cell_type": "code",
   "execution_count": 40,
   "id": "57d4ee37-cb08-49c5-986d-03f7ce05db76",
   "metadata": {},
   "outputs": [
    {
     "data": {
      "text/html": [
       "<div>\n",
       "<style scoped>\n",
       "    .dataframe tbody tr th:only-of-type {\n",
       "        vertical-align: middle;\n",
       "    }\n",
       "\n",
       "    .dataframe tbody tr th {\n",
       "        vertical-align: top;\n",
       "    }\n",
       "\n",
       "    .dataframe thead th {\n",
       "        text-align: right;\n",
       "    }\n",
       "</style>\n",
       "<table border=\"1\" class=\"dataframe\">\n",
       "  <thead>\n",
       "    <tr style=\"text-align: right;\">\n",
       "      <th></th>\n",
       "      <th>CustomerKey</th>\n",
       "      <th>Prefix</th>\n",
       "      <th>FirstName</th>\n",
       "      <th>LastName</th>\n",
       "      <th>BirthDate</th>\n",
       "      <th>MaritalStatus</th>\n",
       "      <th>Gender</th>\n",
       "      <th>EmailAddress</th>\n",
       "      <th>AnnualIncome</th>\n",
       "      <th>TotalChildren</th>\n",
       "      <th>EducationLevel</th>\n",
       "      <th>Occupation</th>\n",
       "      <th>HomeOwner</th>\n",
       "    </tr>\n",
       "  </thead>\n",
       "  <tbody>\n",
       "    <tr>\n",
       "      <th>78</th>\n",
       "      <td>11079</td>\n",
       "      <td>Mr.</td>\n",
       "      <td>Donald</td>\n",
       "      <td>Gonzalez</td>\n",
       "      <td>3/11/1959</td>\n",
       "      <td>S</td>\n",
       "      <td>M</td>\n",
       "      <td>donald20@adventure-works.com</td>\n",
       "      <td>160000.0</td>\n",
       "      <td>0</td>\n",
       "      <td>Graduate Degree</td>\n",
       "      <td>Management</td>\n",
       "      <td>Y</td>\n",
       "    </tr>\n",
       "    <tr>\n",
       "      <th>79</th>\n",
       "      <td>11080</td>\n",
       "      <td>Mr.</td>\n",
       "      <td>Damien</td>\n",
       "      <td>Chander</td>\n",
       "      <td>7/17/1959</td>\n",
       "      <td>M</td>\n",
       "      <td>M</td>\n",
       "      <td>damien32@adventure-works.com</td>\n",
       "      <td>170000.0</td>\n",
       "      <td>0</td>\n",
       "      <td>Graduate Degree</td>\n",
       "      <td>Management</td>\n",
       "      <td>Y</td>\n",
       "    </tr>\n",
       "    <tr>\n",
       "      <th>177</th>\n",
       "      <td>11180</td>\n",
       "      <td>Mrs.</td>\n",
       "      <td>April</td>\n",
       "      <td>Anand</td>\n",
       "      <td>1/2/1943</td>\n",
       "      <td>M</td>\n",
       "      <td>F</td>\n",
       "      <td>april18@adventure-works.com</td>\n",
       "      <td>160000.0</td>\n",
       "      <td>1</td>\n",
       "      <td>Bachelors</td>\n",
       "      <td>Management</td>\n",
       "      <td>Y</td>\n",
       "    </tr>\n",
       "    <tr>\n",
       "      <th>178</th>\n",
       "      <td>11181</td>\n",
       "      <td>Mr.</td>\n",
       "      <td>Devin</td>\n",
       "      <td>Martin</td>\n",
       "      <td>8/8/1943</td>\n",
       "      <td>M</td>\n",
       "      <td>M</td>\n",
       "      <td>devin13@adventure-works.com</td>\n",
       "      <td>170000.0</td>\n",
       "      <td>2</td>\n",
       "      <td>Graduate Degree</td>\n",
       "      <td>Management</td>\n",
       "      <td>Y</td>\n",
       "    </tr>\n",
       "    <tr>\n",
       "      <th>234</th>\n",
       "      <td>11240</td>\n",
       "      <td>Mrs.</td>\n",
       "      <td>Anne</td>\n",
       "      <td>Hernandez</td>\n",
       "      <td>12/11/1958</td>\n",
       "      <td>M</td>\n",
       "      <td>F</td>\n",
       "      <td>anne4@adventure-works.com</td>\n",
       "      <td>160000.0</td>\n",
       "      <td>2</td>\n",
       "      <td>Partial College</td>\n",
       "      <td>Professional</td>\n",
       "      <td>Y</td>\n",
       "    </tr>\n",
       "  </tbody>\n",
       "</table>\n",
       "</div>"
      ],
      "text/plain": [
       "     CustomerKey Prefix FirstName   LastName   BirthDate MaritalStatus Gender  \\\n",
       "78         11079    Mr.    Donald   Gonzalez   3/11/1959             S      M   \n",
       "79         11080    Mr.    Damien    Chander   7/17/1959             M      M   \n",
       "177        11180   Mrs.     April      Anand    1/2/1943             M      F   \n",
       "178        11181    Mr.     Devin     Martin    8/8/1943             M      M   \n",
       "234        11240   Mrs.      Anne  Hernandez  12/11/1958             M      F   \n",
       "\n",
       "                     EmailAddress  AnnualIncome  TotalChildren  \\\n",
       "78   donald20@adventure-works.com      160000.0              0   \n",
       "79   damien32@adventure-works.com      170000.0              0   \n",
       "177   april18@adventure-works.com      160000.0              1   \n",
       "178   devin13@adventure-works.com      170000.0              2   \n",
       "234     anne4@adventure-works.com      160000.0              2   \n",
       "\n",
       "      EducationLevel    Occupation HomeOwner  \n",
       "78   Graduate Degree    Management         Y  \n",
       "79   Graduate Degree    Management         Y  \n",
       "177        Bachelors    Management         Y  \n",
       "178  Graduate Degree    Management         Y  \n",
       "234  Partial College  Professional         Y  "
      ]
     },
     "execution_count": 40,
     "metadata": {},
     "output_type": "execute_result"
    }
   ],
   "source": [
    "#outliers on sales quantity\n",
    "outliers_annual_income.head(5)"
   ]
  },
  {
   "cell_type": "code",
   "execution_count": 34,
   "id": "58bd2290-80e8-4d98-8a91-5d43733fb553",
   "metadata": {},
   "outputs": [
    {
     "data": {
      "image/png": "[encoded data removed]",
      "text/plain": [
       "<Figure size 1000x600 with 1 Axes>"
      ]
     },
     "metadata": {},
     "output_type": "display_data"
    }
   ],
   "source": [
    "import matplotlib.pyplot as plt\n",
    "import seaborn as sns\n",
    "\n",
    "# Function to plot data and highlight outliers\n",
    "def plot_outliers_iqr(data, column, outliers):\n",
    "    plt.figure(figsize=(10, 6))\n",
    "\n",
    "    # Box plot with seaborn, which automatically visualizes outliers\n",
    "    sns.boxplot(x=data[column], color='green')\n",
    "    \n",
    "    # Highlight outliers (if any) using a scatter plot\n",
    "    if not outliers.empty:\n",
    "        sns.scatterplot(x=outliers[column], y=[0]*len(outliers), color='red', s=100, label='Outliers', marker='X')\n",
    "\n",
    "    plt.title(f'Outliers in {column} (IQR method)')\n",
    "    plt.xlabel(column)\n",
    "    plt.show()\n",
    "\n",
    "# Detect outliers using the IQR method\n",
    "outliers_sales_quantity = detect_outliers_iqr(query_sales, 'OrderQuantity')\n",
    "\n",
    "# Plot the outliers for Sales OrderQuantity\n",
    "plot_outliers_iqr(query_sales, 'OrderQuantity', outliers_sales_quantity)"
   ]
  },
  {
   "cell_type": "markdown",
   "id": "0e5b13e1-108b-454b-8754-ac7a5ae53c0e",
   "metadata": {},
   "source": [
    "### Outliers detected for Returns and anual Income"
   ]
  },
  {
   "cell_type": "code",
   "execution_count": 35,
   "id": "23821be7-d2ff-4414-acd7-a87a0ce4173d",
   "metadata": {},
   "outputs": [
    {
     "data": {
      "image/png": "[encoded data removed]",
      "text/plain": [
       "<Figure size 1000x600 with 1 Axes>"
      ]
     },
     "metadata": {},
     "output_type": "display_data"
    },
    {
     "data": {
      "image/png": "[encoded data removed]",
      "text/plain": [
       "<Figure size 1000x600 with 1 Axes>"
      ]
     },
     "metadata": {},
     "output_type": "display_data"
    }
   ],
   "source": [
    "# Detect outliers for Returns ReturnQuantity\n",
    "outliers_return_quantity = detect_outliers_iqr(query_returns, 'ReturnQuantity')\n",
    "\n",
    "# Plot the outliers for Returns ReturnQuantity\n",
    "plot_outliers_iqr(query_returns, 'ReturnQuantity', outliers_return_quantity)\n",
    "\n",
    "# Detect outliers for Customers AnnualIncome\n",
    "outliers_annual_income = detect_outliers_iqr(query_Customers, 'AnnualIncome')\n",
    "\n",
    "# Plot the outliers for Customers AnnualIncome\n",
    "plot_outliers_iqr(query_Customers, 'AnnualIncome', outliers_annual_income)"
   ]
  },
  {
   "cell_type": "markdown",
   "id": "2c2c1e0b-8014-4fd3-8a87-4a1ec70c3d62",
   "metadata": {},
   "source": [
    "## Checking Relationship between the tables"
   ]
  },
  {
   "cell_type": "code",
   "execution_count": null,
   "id": "2535bc64-1920-4265-8b85-15f981a059ac",
   "metadata": {},
   "outputs": [],
   "source": []
  }
 ],
 "metadata": {
  "kernelspec": {
   "display_name": "NewPython3(ipykernel)",
   "language": "python",
   "name": "python3"
  },
  "language_info": {
   "codemirror_mode": {
    "name": "ipython",
    "version": 3
   },
   "file_extension": ".py",
   "mimetype": "text/x-python",
   "name": "python",
   "nbconvert_exporter": "python",
   "pygments_lexer": "ipython3",
   "version": "3.11.7"
  }
 },
 "nbformat": 4,
 "nbformat_minor": 5
}
